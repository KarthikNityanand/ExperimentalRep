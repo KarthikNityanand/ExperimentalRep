{
 "cells": [
  {
   "cell_type": "code",
   "execution_count": 1,
   "metadata": {},
   "outputs": [],
   "source": [
    "import pandas as pd\n",
    "import numpy as np\n",
    "import json\n",
    "from collections import Counter\n",
    "import matplotlib.pyplot as plt\n"
   ]
  },
  {
   "cell_type": "code",
   "execution_count": 2,
   "metadata": {},
   "outputs": [],
   "source": [
    "col_list = [\"text\"]\n",
    "df_all=pd.read_csv(\"Merged140620to200620.csv\")\n",
    "df = pd.read_csv(\"Merged140620to200620.csv\", usecols = col_list)\n"
   ]
  },
  {
   "cell_type": "code",
   "execution_count": 3,
   "metadata": {},
   "outputs": [],
   "source": [
    "# to see full column content instead of truncated text\n",
    "pd.set_option('display.max_colwidth', -1)"
   ]
  },
  {
   "cell_type": "code",
   "execution_count": 4,
   "metadata": {},
   "outputs": [],
   "source": [
    "#install tweet preprocessor package to remove URLs, hashtags, mentions\n",
    "#!pip install tweet-preprocessor\n",
    "\n",
    "import preprocessor as p\n",
    "\n"
   ]
  },
  {
   "cell_type": "code",
   "execution_count": 6,
   "metadata": {},
   "outputs": [],
   "source": [
    "import re\n",
    "import nltk\n",
    "import gensim\n",
    "#from nltk.tokenize import TweetTokenizer\n",
    "#tt = TweetTokenizer()\n",
    "\n",
    "\n",
    "from gensim.parsing.porter import PorterStemmer\n",
    "st = PorterStemmer()\n",
    "\n"
   ]
  },
  {
   "cell_type": "code",
   "execution_count": 7,
   "metadata": {},
   "outputs": [],
   "source": [
    "stop_list = nltk.corpus.stopwords.words('english')\n",
    "#to add on to stop_list - used nltk cuz stop list is in a list. \n",
    "\n",
    "#stop_list += ['']"
   ]
  },
  {
   "cell_type": "code",
   "execution_count": 8,
   "metadata": {},
   "outputs": [],
   "source": [
    "all_tweets1=[]\n",
    "all_tweets2=[]\n",
    "all_tweets3=[]\n",
    "all_tweets4=[] #for sentiment analysis: no stemming and stopwords\n",
    "all_tweets5=[] # remove stopwords\n",
    "all_tweets6=[] #lemmitised instead of stemming.. seems better\n",
    "\n",
    "lemmatizer = nltk.stem.WordNetLemmatizer()\n",
    "\n",
    "for row in df[\"text\"]:\n",
    "    \n",
    "    # remove all urls,mentions, hashtags using twitter preprocessing p\n",
    "    tweets1 = p.clean(row)\n",
    "    all_tweets1.append(tweets1)\n",
    "\n",
    "    #remove digits,punctuations\n",
    "   \n",
    "    tweets2=re.sub(r\"\\b\\d+\\b\",\"\",tweets1)\n",
    "    all_tweets2.append(tweets2)\n",
    "    \n",
    "    \n",
    "    #tokenise \n",
    "    tweets3=list(gensim.utils.tokenize(tweets2))\n",
    "    all_tweets3.append(tweets3)\n",
    "    \n",
    "    #convert to lower case\n",
    "\n",
    "    tweets4 = [word.lower() for word in tweets3]\n",
    "    all_tweets4.append(tweets4)\n",
    "    \n",
    "    \n",
    "    #remove stopwords\n",
    "    tweets5= [word for word in tweets4 if word not in stop_list]\n",
    "    all_tweets5.append(tweets5)\n",
    "    \n",
    "    \n",
    "    #lemmitise\n",
    "    tweets6 = [lemmatizer.lemmatize(word) for word in tweets5]\n",
    "    all_tweets6.append(tweets6)\n",
    " "
   ]
  },
  {
   "cell_type": "code",
   "execution_count": 9,
   "metadata": {},
   "outputs": [],
   "source": [
    "#Code to covert docs to vec\n",
    "def docs2vecs(docs, dictionary):\n",
    "    vecs1 = [dictionary.doc2bow(doc) for doc in docs]\n",
    "    return vecs1"
   ]
  },
  {
   "cell_type": "markdown",
   "metadata": {},
   "source": [
    "\n",
    "### LDA Gensim Model\n"
   ]
  },
  {
   "cell_type": "code",
   "execution_count": 10,
   "metadata": {},
   "outputs": [],
   "source": [
    "#Latent Dirichlet Allocation with Gensim\n",
    "tweet_dictionary = gensim.corpora.Dictionary(all_tweets6)\n",
    "tweet_vecs = docs2vecs(all_tweets6, tweet_dictionary)\n",
    "\n",
    "tweet_lda = gensim.models.ldamodel.LdaModel(corpus=tweet_vecs, id2word=tweet_dictionary, num_topics=10)"
   ]
  },
  {
   "cell_type": "code",
   "execution_count": 11,
   "metadata": {},
   "outputs": [
    {
     "name": "stdout",
     "output_type": "stream",
     "text": [
      "(0, '0.027*\"day\" + 0.021*\"work\" + 0.019*\"office\" + 0.011*\"home\" + 0.009*\"today\" + 0.009*\"working\" + 0.008*\"look\" + 0.007*\"weekend\" + 0.007*\"morning\" + 0.007*\"week\" + 0.006*\"set\" + 0.006*\"need\" + 0.006*\"good\" + 0.006*\"get\" + 0.006*\"life\"')\n",
      "(1, '0.027*\"get\" + 0.014*\"sleep\" + 0.011*\"hustle\" + 0.010*\"free\" + 0.010*\"edition\" + 0.010*\"optimize\" + 0.010*\"income\" + 0.008*\"big\" + 0.007*\"never\" + 0.007*\"would\" + 0.007*\"like\" + 0.006*\"people\" + 0.006*\"team\" + 0.006*\"work\" + 0.006*\"passive\"')\n",
      "(2, '0.013*\"amp\" + 0.011*\"work\" + 0.010*\"new\" + 0.010*\"home\" + 0.009*\"remote\" + 0.009*\"day\" + 0.009*\"make\" + 0.008*\"team\" + 0.007*\"back\" + 0.007*\"working\" + 0.006*\"job\" + 0.006*\"office\" + 0.006*\"read\" + 0.005*\"going\" + 0.005*\"really\"')\n",
      "(3, '0.029*\"new\" + 0.019*\"job\" + 0.017*\"remote\" + 0.015*\"amp\" + 0.011*\"u\" + 0.010*\"work\" + 0.006*\"learn\" + 0.006*\"want\" + 0.005*\"sign\" + 0.005*\"team\" + 0.005*\"share\" + 0.005*\"normal\" + 0.005*\"home\" + 0.005*\"webinar\" + 0.005*\"engineer\"')\n",
      "(4, '0.032*\"home\" + 0.027*\"work\" + 0.026*\"business\" + 0.019*\"employee\" + 0.016*\"help\" + 0.015*\"remote\" + 0.015*\"working\" + 0.010*\"make\" + 0.009*\"solution\" + 0.009*\"company\" + 0.009*\"need\" + 0.007*\"learn\" + 0.007*\"customer\" + 0.006*\"u\" + 0.006*\"new\"')\n",
      "(5, '0.037*\"home\" + 0.033*\"work\" + 0.017*\"working\" + 0.016*\"time\" + 0.015*\"get\" + 0.011*\"help\" + 0.011*\"tip\" + 0.010*\"best\" + 0.009*\"video\" + 0.008*\"business\" + 0.008*\"life\" + 0.008*\"need\" + 0.007*\"free\" + 0.007*\"online\" + 0.007*\"make\"')\n",
      "(6, '0.039*\"home\" + 0.031*\"working\" + 0.015*\"office\" + 0.014*\"today\" + 0.013*\"stay\" + 0.013*\"make\" + 0.011*\"work\" + 0.010*\"free\" + 0.010*\"productive\" + 0.010*\"start\" + 0.010*\"money\" + 0.009*\"business\" + 0.009*\"u\" + 0.009*\"via\" + 0.009*\"marketing\"')\n",
      "(7, '0.031*\"gt\" + 0.012*\"check\" + 0.012*\"free\" + 0.011*\"way\" + 0.011*\"online\" + 0.010*\"new\" + 0.009*\"like\" + 0.008*\"make\" + 0.008*\"take\" + 0.008*\"get\" + 0.008*\"detail\" + 0.007*\"full\" + 0.006*\"today\" + 0.006*\"learn\" + 0.006*\"business\"')\n",
      "(8, '0.018*\"amp\" + 0.014*\"time\" + 0.013*\"work\" + 0.010*\"home\" + 0.010*\"take\" + 0.008*\"day\" + 0.008*\"one\" + 0.007*\"great\" + 0.007*\"way\" + 0.005*\"today\" + 0.005*\"got\" + 0.005*\"getting\" + 0.005*\"come\" + 0.005*\"get\" + 0.005*\"productivity\"')\n",
      "(9, '0.019*\"work\" + 0.017*\"home\" + 0.016*\"team\" + 0.014*\"via\" + 0.012*\"new\" + 0.012*\"working\" + 0.011*\"covid\" + 0.009*\"remote\" + 0.009*\"virtual\" + 0.009*\"employee\" + 0.008*\"meeting\" + 0.008*\"pandemic\" + 0.008*\"tip\" + 0.007*\"experience\" + 0.005*\"interested\"')\n"
     ]
    }
   ],
   "source": [
    "topics = tweet_lda.show_topics(10, 15)\n",
    "\n",
    "for i in range(0, 10):\n",
    "    print(topics[i])"
   ]
  },
  {
   "cell_type": "code",
   "execution_count": 12,
   "metadata": {},
   "outputs": [
    {
     "name": "stderr",
     "output_type": "stream",
     "text": [
      "D:\\Anaconda\\lib\\site-packages\\pyLDAvis\\_prepare.py:257: FutureWarning: Sorting because non-concatenation axis is not aligned. A future version\n",
      "of pandas will change to not sort by default.\n",
      "\n",
      "To accept the future behavior, pass 'sort=False'.\n",
      "\n",
      "To retain the current behavior and silence the warning, pass 'sort=True'.\n",
      "\n",
      "  return pd.concat([default_term_info] + list(topic_dfs))\n"
     ]
    }
   ],
   "source": [
    "#this will take a while to run - can skip if you want to test out other results\n",
    "import pyLDAvis.gensim\n",
    "pyLDAvis.enable_notebook()\n",
    "visual= pyLDAvis.gensim.prepare(tweet_lda, tweet_vecs, tweet_dictionary)\n",
    "pyLDAvis.save_html(visual, \"topic_viz.html\")"
   ]
  },
  {
   "cell_type": "code",
   "execution_count": 13,
   "metadata": {},
   "outputs": [],
   "source": [
    "#Code to save the document topic probabilities (theta)\n",
    "\n",
    "mixture = [dict(tweet_lda[x]) for x in tweet_vecs]\n",
    "pd.DataFrame(mixture).to_csv(\"doc_topic_mixture.csv\")"
   ]
  },
  {
   "cell_type": "code",
   "execution_count": 14,
   "metadata": {},
   "outputs": [],
   "source": [
    "# Code to save top 10 words for each topic (beta)\n",
    "top_words_per_topic = []\n",
    "for t in range(tweet_lda.num_topics):\n",
    "    top_words_per_topic.extend([(t, ) + x for x in tweet_lda.show_topic(t, topn = 10)])\n",
    "\n",
    "pd.DataFrame(top_words_per_topic, columns=['Topic', 'Word', 'P']).to_csv(\"top_words.csv\")"
   ]
  },
  {
   "cell_type": "markdown",
   "metadata": {},
   "source": [
    "\n",
    "### LDA Mallet Model\n"
   ]
  },
  {
   "cell_type": "code",
   "execution_count": 15,
   "metadata": {},
   "outputs": [
    {
     "name": "stderr",
     "output_type": "stream",
     "text": [
      "D:\\Anaconda\\lib\\site-packages\\smart_open\\smart_open_lib.py:402: UserWarning: This function is deprecated, use smart_open.open instead. See the migration notes for details: https://github.com/RaRe-Technologies/smart_open/blob/master/README.rst#migrating-to-the-new-open-function\n",
      "  'See the migration notes for details: %s' % _MIGRATION_NOTES_URL\n"
     ]
    }
   ],
   "source": [
    "import gensim\n",
    "# Download File: http://mallet.cs.umass.edu/dist/mallet-2.0.8.zip\n",
    "import os\n",
    "os.environ.update({'MALLET_HOME':r'C:/new_mallet/mallet-2.0.8/'})\n",
    "\n",
    "no_topics=10 #make this 2 to test.\n",
    "no_iter=1000 #make this 50 to test\n",
    "\n",
    "mallet_path = 'C:/new_mallet/mallet-2.0.8/bin/mallet' # update this path\n",
    "ldamallet = gensim.models.wrappers.LdaMallet(mallet_path, corpus=tweet_vecs, iterations=no_iter, num_topics=no_topics, id2word=tweet_dictionary)\n"
   ]
  },
  {
   "cell_type": "code",
   "execution_count": 16,
   "metadata": {},
   "outputs": [
    {
     "name": "stdout",
     "output_type": "stream",
     "text": [
      "(0, '0.240*\"home\" + 0.147*\"working\" + 0.119*\"work\" + 0.050*\"tip\" + 0.027*\"stay\" + 0.025*\"productive\" + 0.022*\"worker\" + 0.020*\"remotely\" + 0.010*\"safe\" + 0.008*\"hard\"')\n",
      "(1, '0.085*\"amp\" + 0.065*\"team\" + 0.043*\"learn\" + 0.033*\"video\" + 0.025*\"meeting\" + 0.025*\"virtual\" + 0.018*\"top\" + 0.017*\"tool\" + 0.013*\"set\" + 0.012*\"give\"')\n",
      "(2, '0.079*\"day\" + 0.031*\"week\" + 0.017*\"love\" + 0.016*\"call\" + 0.016*\"morning\" + 0.015*\"today\" + 0.015*\"zoom\" + 0.014*\"happy\" + 0.013*\"long\" + 0.012*\"im\"')\n",
      "(3, '0.077*\"business\" + 0.076*\"make\" + 0.054*\"free\" + 0.046*\"online\" + 0.042*\"today\" + 0.034*\"money\" + 0.033*\"start\" + 0.030*\"check\" + 0.016*\"earn\" + 0.016*\"marketing\"')\n",
      "(4, '0.084*\"remote\" + 0.049*\"employee\" + 0.021*\"productivity\" + 0.018*\"solution\" + 0.016*\"data\" + 0.015*\"challenge\" + 0.013*\"environment\" + 0.012*\"security\" + 0.012*\"workforce\" + 0.012*\"continue\"')\n",
      "(5, '0.048*\"job\" + 0.040*\"people\" + 0.027*\"join\" + 0.022*\"experience\" + 0.020*\"year\" + 0.018*\"live\" + 0.016*\"full\" + 0.016*\"part\" + 0.014*\"making\" + 0.014*\"webinar\"')\n",
      "(6, '0.069*\"work\" + 0.039*\"company\" + 0.030*\"life\" + 0.029*\"read\" + 0.024*\"covid\" + 0.020*\"pandemic\" + 0.019*\"world\" + 0.018*\"wfh\" + 0.017*\"post\" + 0.017*\"change\"')\n",
      "(7, '0.032*\"great\" + 0.021*\"share\" + 0.021*\"time\" + 0.020*\"normal\" + 0.020*\"good\" + 0.016*\"feel\" + 0.014*\"find\" + 0.013*\"success\" + 0.013*\"important\" + 0.013*\"watch\"')\n",
      "(8, '0.058*\"time\" + 0.020*\"service\" + 0.019*\"month\" + 0.019*\"customer\" + 0.013*\"organization\" + 0.012*\"desk\" + 0.012*\"benefit\" + 0.011*\"lot\" + 0.010*\"email\" + 0.010*\"made\"')\n",
      "(9, '0.082*\"office\" + 0.034*\"gt\" + 0.033*\"back\" + 0.027*\"thing\" + 0.021*\"work\" + 0.015*\"find\" + 0.015*\"space\" + 0.014*\"visit\" + 0.013*\"offer\" + 0.012*\"check\"')\n"
     ]
    }
   ],
   "source": [
    "# Show Topics\n",
    "#print(ldamallet.show_topics(formatted=False))\n",
    "#print(ldamallet.show_topics())\n",
    "\n",
    "vecTop= ldamallet.show_topics()\n",
    "for i in range(0, 10):\n",
    "    print(vecTop[i])"
   ]
  },
  {
   "cell_type": "code",
   "execution_count": 17,
   "metadata": {},
   "outputs": [
    {
     "name": "stderr",
     "output_type": "stream",
     "text": [
      "D:\\Anaconda\\lib\\site-packages\\pyLDAvis\\_prepare.py:257: FutureWarning: Sorting because non-concatenation axis is not aligned. A future version\n",
      "of pandas will change to not sort by default.\n",
      "\n",
      "To accept the future behavior, pass 'sort=False'.\n",
      "\n",
      "To retain the current behavior and silence the warning, pass 'sort=True'.\n",
      "\n",
      "  return pd.concat([default_term_info] + list(topic_dfs))\n"
     ]
    }
   ],
   "source": [
    "#this will take a while to run - can skip if you want to test out other results\n",
    "model = gensim.models.wrappers.ldamallet.malletmodel2ldamodel(ldamallet)\n",
    "visual= pyLDAvis.gensim.prepare(model, tweet_vecs, tweet_dictionary)\n",
    "pyLDAvis.save_html(visual, \"topic_viz_mallet.html\")"
   ]
  },
  {
   "cell_type": "code",
   "execution_count": null,
   "metadata": {},
   "outputs": [],
   "source": [
    "#Code to save the document topic probabilities (theta)\n",
    "\n",
    "mixture = [dict(ldamallet[x]) for x in tweet_vecs]\n",
    "pd.DataFrame(mixture).to_csv(\"doc_mallet_topic.csv\")"
   ]
  },
  {
   "cell_type": "code",
   "execution_count": 18,
   "metadata": {},
   "outputs": [],
   "source": [
    "# Code to save top 10 words for each topic (beta)\n",
    "top_words_per_topic = []\n",
    "for t in range(ldamallet.num_topics):\n",
    "    top_words_per_topic.extend([(t, ) + x for x in ldamallet.show_topic(t, topn = 10)])\n",
    "\n",
    "pd.DataFrame(top_words_per_topic, columns=['Topic', 'Word', 'P']).to_csv(\"top_mallet_words.csv\")"
   ]
  },
  {
   "cell_type": "code",
   "execution_count": 19,
   "metadata": {},
   "outputs": [
    {
     "name": "stdout",
     "output_type": "stream",
     "text": [
      "\n",
      "Coherence Score LDAMallet:  0.31987359651131186\n",
      "\n",
      "Coherence Score LDAModel:  0.28514224051112574\n"
     ]
    }
   ],
   "source": [
    "# Compute Coherence Score\n",
    "from gensim.models import CoherenceModel\n",
    "coherence_model_ldamallet = CoherenceModel(model=ldamallet, texts=all_tweets6, dictionary=tweet_dictionary, coherence='c_v')\n",
    "coherence_ldamallet = coherence_model_ldamallet.get_coherence()\n",
    "print('\\nCoherence Score LDAMallet: ', coherence_ldamallet)\n",
    "\n",
    "coherence_model_lda = CoherenceModel(model=tweet_lda, texts=all_tweets6, dictionary=tweet_dictionary, coherence='c_v')\n",
    "coherence_lda = coherence_model_lda.get_coherence()\n",
    "print('\\nCoherence Score LDAModel: ', coherence_lda)"
   ]
  },
  {
   "cell_type": "code",
   "execution_count": 20,
   "metadata": {},
   "outputs": [
    {
     "name": "stdout",
     "output_type": "stream",
     "text": [
      "2020-07-14 02:07:27.400023\n"
     ]
    },
    {
     "name": "stderr",
     "output_type": "stream",
     "text": [
      "D:\\Anaconda\\lib\\site-packages\\smart_open\\smart_open_lib.py:402: UserWarning: This function is deprecated, use smart_open.open instead. See the migration notes for details: https://github.com/RaRe-Technologies/smart_open/blob/master/README.rst#migrating-to-the-new-open-function\n",
      "  'See the migration notes for details: %s' % _MIGRATION_NOTES_URL\n"
     ]
    },
    {
     "name": "stdout",
     "output_type": "stream",
     "text": [
      "#Topics: 2 Score: 0.2855213132223914\n",
      "#Topics: 4 Score: 0.2935407718413774\n",
      "#Topics: 6 Score: 0.2737831683331041\n",
      "#Topics: 8 Score: 0.2817716431808483\n",
      "2020-07-14 02:08:50.746922\n"
     ]
    }
   ],
   "source": [
    "# Choose any k value you desire - might take a while to run\n",
    "# current kmax is chosen to be 10\n",
    "import datetime\n",
    "print(datetime.datetime.now())\n",
    "\n",
    "from gensim.models import CoherenceModel\n",
    "\n",
    "model_list = []\n",
    "coherence_values = []\n",
    "model_topics = []\n",
    "\n",
    "for num_topics in range(2, 10, 2):\n",
    "    #tweet_lda_x = gensim.models.ldamodel.LdaModel(corpus=tweet_vecs, id2word=tweet_dictionary, num_topics=num_topics)\n",
    "    tweet_lda_x = gensim.models.wrappers.LdaMallet(mallet_path, iterations=100, corpus=tweet_vecs, num_topics=no_topics, id2word=tweet_dictionary)\n",
    "    coherencemodel = CoherenceModel(model=tweet_lda_x, texts=all_tweets6, dictionary=tweet_dictionary, coherence='c_v')\n",
    "    model_topics.append(num_topics)\n",
    "    model_list.append(tweet_lda_x)\n",
    "    coherence_values.append(coherencemodel.get_coherence())\n",
    "    print(\"#Topics: \" + str(num_topics) + \" Score: \" + str(coherencemodel.get_coherence()))\n",
    "\n",
    "print(datetime.datetime.now())"
   ]
  },
  {
   "cell_type": "code",
   "execution_count": 21,
   "metadata": {},
   "outputs": [
    {
     "data": {
      "image/png": "[encoded data removed]",
      "text/plain": [
       "<Figure size 432x288 with 1 Axes>"
      ]
     },
     "metadata": {
      "needs_background": "light"
     },
     "output_type": "display_data"
    }
   ],
   "source": [
    "# Show graph\n",
    "\n",
    "import matplotlib.pyplot as plt\n",
    "\n",
    "limit=10; start=2; step=2;\n",
    "x = range(start, limit, step)\n",
    "plt.plot(x, coherence_values)\n",
    "plt.xlabel(\"Num Topics\")\n",
    "plt.ylabel(\"Coherence score\")\n",
    "plt.legend((\"coherence_values\"), loc='best')\n",
    "plt.show()"
   ]
  },
  {
   "cell_type": "code",
   "execution_count": 22,
   "metadata": {},
   "outputs": [
    {
     "name": "stdout",
     "output_type": "stream",
     "text": [
      "Num Topics = 2  has Coherence Value of 0.2855\n",
      "Num Topics = 4  has Coherence Value of 0.2935\n",
      "Num Topics = 6  has Coherence Value of 0.2738\n",
      "Num Topics = 8  has Coherence Value of 0.2818\n"
     ]
    }
   ],
   "source": [
    "# Print the coherence scores\n",
    "for m, cv in zip(x, coherence_values):\n",
    "    print(\"Num Topics =\", m, \" has Coherence Value of\", round(cv, 4))"
   ]
  },
  {
   "cell_type": "code",
   "execution_count": 23,
   "metadata": {},
   "outputs": [
    {
     "data": {
      "text/html": [
       "<div>\n",
       "<style scoped>\n",
       "    .dataframe tbody tr th:only-of-type {\n",
       "        vertical-align: middle;\n",
       "    }\n",
       "\n",
       "    .dataframe tbody tr th {\n",
       "        vertical-align: top;\n",
       "    }\n",
       "\n",
       "    .dataframe thead th {\n",
       "        text-align: right;\n",
       "    }\n",
       "</style>\n",
       "<table border=\"1\" class=\"dataframe\">\n",
       "  <thead>\n",
       "    <tr style=\"text-align: right;\">\n",
       "      <th></th>\n",
       "      <th>Document_No</th>\n",
       "      <th>Dominant_Topic</th>\n",
       "      <th>Topic_Perc_Contrib</th>\n",
       "      <th>Keywords</th>\n",
       "      <th>Text</th>\n",
       "    </tr>\n",
       "  </thead>\n",
       "  <tbody>\n",
       "    <tr>\n",
       "      <th>0</th>\n",
       "      <td>0</td>\n",
       "      <td>5.0</td>\n",
       "      <td>0.1228</td>\n",
       "      <td>job, people, join, experience, year, live, full, part, making, webinar</td>\n",
       "      <td>[real, money, making, monster, pre, launch, visit]</td>\n",
       "    </tr>\n",
       "    <tr>\n",
       "      <th>1</th>\n",
       "      <td>1</td>\n",
       "      <td>5.0</td>\n",
       "      <td>0.1607</td>\n",
       "      <td>job, people, join, experience, year, live, full, part, making, webinar</td>\n",
       "      <td>[join, hiring, representative, throughout, state, learn, apply]</td>\n",
       "    </tr>\n",
       "    <tr>\n",
       "      <th>2</th>\n",
       "      <td>2</td>\n",
       "      <td>3.0</td>\n",
       "      <td>0.1930</td>\n",
       "      <td>business, make, free, online, today, money, start, check, earn, marketing</td>\n",
       "      <td>[earn, cash, back, signing, freedom, credit, card]</td>\n",
       "    </tr>\n",
       "    <tr>\n",
       "      <th>3</th>\n",
       "      <td>3</td>\n",
       "      <td>9.0</td>\n",
       "      <td>0.3077</td>\n",
       "      <td>office, gt, back, thing, work, find, space, visit, offer, check</td>\n",
       "      <td>[nice, recently, launched, trial, version, next, generation, automation, studio, destination, crm, offer, detail, new, version, gt, gt]</td>\n",
       "    </tr>\n",
       "    <tr>\n",
       "      <th>4</th>\n",
       "      <td>4</td>\n",
       "      <td>1.0</td>\n",
       "      <td>0.1303</td>\n",
       "      <td>amp, team, learn, video, meeting, virtual, top, tool, set, give</td>\n",
       "      <td>[unemployment, benefit, available, want, self, employed, dear, wahfaq, got, laid, friend, told]</td>\n",
       "    </tr>\n",
       "    <tr>\n",
       "      <th>5</th>\n",
       "      <td>5</td>\n",
       "      <td>4.0</td>\n",
       "      <td>0.1525</td>\n",
       "      <td>remote, employee, productivity, solution, data, challenge, environment, security, workforce, continue</td>\n",
       "      <td>[cyber, security, best, practice, guide, work, home, teleworking, informative, article]</td>\n",
       "    </tr>\n",
       "    <tr>\n",
       "      <th>6</th>\n",
       "      <td>6</td>\n",
       "      <td>2.0</td>\n",
       "      <td>0.1154</td>\n",
       "      <td>day, week, love, call, morning, today, zoom, happy, long, im</td>\n",
       "      <td>[good, morning]</td>\n",
       "    </tr>\n",
       "    <tr>\n",
       "      <th>7</th>\n",
       "      <td>7</td>\n",
       "      <td>5.0</td>\n",
       "      <td>0.1569</td>\n",
       "      <td>job, people, join, experience, year, live, full, part, making, webinar</td>\n",
       "      <td>[transcribing, part, one, interview, dog, barking, uncontrollably, delivery, person, try, continue, interview, wrangle, attempt, legit, guard, dog, really, he, giant, golden, fluff]</td>\n",
       "    </tr>\n",
       "    <tr>\n",
       "      <th>8</th>\n",
       "      <td>8</td>\n",
       "      <td>9.0</td>\n",
       "      <td>0.1293</td>\n",
       "      <td>office, gt, back, thing, work, find, space, visit, offer, check</td>\n",
       "      <td>[family, tired, work, station, work]</td>\n",
       "    </tr>\n",
       "    <tr>\n",
       "      <th>9</th>\n",
       "      <td>9</td>\n",
       "      <td>9.0</td>\n",
       "      <td>0.1409</td>\n",
       "      <td>office, gt, back, thing, work, find, space, visit, offer, check</td>\n",
       "      <td>[get, medical, billing, amp, coding, job, home]</td>\n",
       "    </tr>\n",
       "  </tbody>\n",
       "</table>\n",
       "</div>"
      ],
      "text/plain": [
       "   Document_No  Dominant_Topic  Topic_Perc_Contrib  \\\n",
       "0  0            5.0             0.1228               \n",
       "1  1            5.0             0.1607               \n",
       "2  2            3.0             0.1930               \n",
       "3  3            9.0             0.3077               \n",
       "4  4            1.0             0.1303               \n",
       "5  5            4.0             0.1525               \n",
       "6  6            2.0             0.1154               \n",
       "7  7            5.0             0.1569               \n",
       "8  8            9.0             0.1293               \n",
       "9  9            9.0             0.1409               \n",
       "\n",
       "                                                                                                Keywords  \\\n",
       "0  job, people, join, experience, year, live, full, part, making, webinar                                  \n",
       "1  job, people, join, experience, year, live, full, part, making, webinar                                  \n",
       "2  business, make, free, online, today, money, start, check, earn, marketing                               \n",
       "3  office, gt, back, thing, work, find, space, visit, offer, check                                         \n",
       "4  amp, team, learn, video, meeting, virtual, top, tool, set, give                                         \n",
       "5  remote, employee, productivity, solution, data, challenge, environment, security, workforce, continue   \n",
       "6  day, week, love, call, morning, today, zoom, happy, long, im                                            \n",
       "7  job, people, join, experience, year, live, full, part, making, webinar                                  \n",
       "8  office, gt, back, thing, work, find, space, visit, offer, check                                         \n",
       "9  office, gt, back, thing, work, find, space, visit, offer, check                                         \n",
       "\n",
       "                                                                                                                                                                                    Text  \n",
       "0  [real, money, making, monster, pre, launch, visit]                                                                                                                                     \n",
       "1  [join, hiring, representative, throughout, state, learn, apply]                                                                                                                        \n",
       "2  [earn, cash, back, signing, freedom, credit, card]                                                                                                                                     \n",
       "3  [nice, recently, launched, trial, version, next, generation, automation, studio, destination, crm, offer, detail, new, version, gt, gt]                                                \n",
       "4  [unemployment, benefit, available, want, self, employed, dear, wahfaq, got, laid, friend, told]                                                                                        \n",
       "5  [cyber, security, best, practice, guide, work, home, teleworking, informative, article]                                                                                                \n",
       "6  [good, morning]                                                                                                                                                                        \n",
       "7  [transcribing, part, one, interview, dog, barking, uncontrollably, delivery, person, try, continue, interview, wrangle, attempt, legit, guard, dog, really, he, giant, golden, fluff]  \n",
       "8  [family, tired, work, station, work]                                                                                                                                                   \n",
       "9  [get, medical, billing, amp, coding, job, home]                                                                                                                                        "
      ]
     },
     "execution_count": 23,
     "metadata": {},
     "output_type": "execute_result"
    }
   ],
   "source": [
    "#Find most dominant topic\n",
    "def format_topics_sentences(ldamodel, corpus, data):\n",
    "    # Init output\n",
    "    sent_topics_df = pd.DataFrame()\n",
    "\n",
    "    # Get main topic in each document\n",
    "    for i, row in enumerate(ldamodel[corpus]):\n",
    "        row = sorted(row, key=lambda x: (x[1]), reverse=True)\n",
    "        # Get the Dominant topic, Perc Contribution and Keywords for each document\n",
    "        for j, (topic_num, prop_topic) in enumerate(row):\n",
    "            if j == 0:  # => dominant topic\n",
    "                wp = ldamodel.show_topic(topic_num)\n",
    "                topic_keywords = \", \".join([word for word, prop in wp])\n",
    "                sent_topics_df = sent_topics_df.append(pd.Series([int(topic_num), round(prop_topic,4), topic_keywords]), ignore_index=True)\n",
    "            else:\n",
    "                break\n",
    "    sent_topics_df.columns = ['Dominant_Topic', 'Perc_Contribution', 'Topic_Keywords']\n",
    "\n",
    "    # Add original text to the end of the output\n",
    "    contents = pd.Series(data)\n",
    "    sent_topics_df = pd.concat([sent_topics_df, contents], axis=1)\n",
    "    return(sent_topics_df)\n",
    "\n",
    "#I choose model_list[1] where the number of topics is 4\n",
    "\n",
    "#df_topic_sents_keywords = format_topics_sentences(ldamodel=model_list[1], corpus=tweet_vecs, data=all_tweets6)\n",
    "df_topic_sents_keywords = format_topics_sentences(ldamodel=ldamallet, corpus=tweet_vecs, data=all_tweets6)\n",
    "\n",
    "# Format\n",
    "df_dominant_topic = df_topic_sents_keywords.reset_index()\n",
    "df_dominant_topic.columns = ['Document_No', 'Dominant_Topic', 'Topic_Perc_Contrib', 'Keywords', 'Text']\n",
    "\n",
    "# Show\n",
    "df_dominant_topic.head(10)\n"
   ]
  },
  {
   "cell_type": "code",
   "execution_count": 24,
   "metadata": {},
   "outputs": [],
   "source": [
    "#Save a model to disk, or reload a pre-trained model\n",
    "tweet_lda_sav=ldamallet #Or you can save the best model, model_list[1]\n",
    "\n",
    "tweet_lda_sav.save(\"tweet_lda_mallet\")\n",
    "\n",
    "lda_disk=gensim.models.wrappers.LdaMallet.load(\"tweet_lda_mallet\")"
   ]
  },
  {
   "cell_type": "markdown",
   "metadata": {},
   "source": [
    "### LDA with sklearn"
   ]
  },
  {
   "cell_type": "code",
   "execution_count": 35,
   "metadata": {},
   "outputs": [],
   "source": [
    "from sklearn.decomposition import LatentDirichletAllocation\n",
    "from sklearn.feature_extraction.text import CountVectorizer"
   ]
  },
  {
   "cell_type": "code",
   "execution_count": 36,
   "metadata": {},
   "outputs": [],
   "source": [
    "tweet_docs_joined = [\" \".join(x) for x in all_tweets6]  #joined to fit vectorizer"
   ]
  },
  {
   "cell_type": "code",
   "execution_count": 37,
   "metadata": {},
   "outputs": [],
   "source": [
    "# CountVectorizer converts the text documents to a matrix of token counts\n",
    "vectorizer = CountVectorizer()\n",
    "sk_tweet_vecs = vectorizer.fit_transform(tweet_docs_joined)\n",
    "\n",
    "# get_feature_names saves all the words. This allows us to see the words in each topic later\n",
    "feature_names = vectorizer.get_feature_names()"
   ]
  },
  {
   "cell_type": "code",
   "execution_count": 39,
   "metadata": {},
   "outputs": [],
   "source": [
    "# Build LDA Model\n",
    "sk_tweet_lda = LatentDirichletAllocation(n_components=10,               # Number of topics\n",
    "                                      learning_method='online',   \n",
    "                                      n_jobs = -1)              # use all available CPU\n",
    "lda_output = sk_tweet_lda.fit_transform(sk_tweet_vecs)"
   ]
  },
  {
   "cell_type": "code",
   "execution_count": 40,
   "metadata": {},
   "outputs": [
    {
     "name": "stdout",
     "output_type": "stream",
     "text": [
      "Topic 0:\n",
      "get work remote job new people learn home look company like remotely may want tool\n",
      "Topic 1:\n",
      "day work let hour meeting data june happy company click manager place plan client make\n",
      "Topic 2:\n",
      "one call still going office amp looking success thing month idea like kid try meeting\n",
      "Topic 3:\n",
      "time business gt start make today read free experience new virtual good help team need\n",
      "Topic 4:\n",
      "today life way via work day amp would love part join live network daily best\n",
      "Topic 5:\n",
      "make back online money time free earn marketing webinar website income internet together little week\n",
      "Topic 6:\n",
      "thing much week go never sale must hard bos connection else someone summer power child\n",
      "Topic 7:\n",
      "work home new working office employee normal wfh covid change remote long security please business\n",
      "Topic 8:\n",
      "home working tip help stay team video productive keep via best could feel zoom remote\n",
      "Topic 9:\n",
      "office home know many work check working need link morning future right desk way well\n"
     ]
    }
   ],
   "source": [
    "# write a function to display the 10 topics and for each topic we choose the top most frequent words. \n",
    "def display_topics(model, feature_names, no_top_words):\n",
    "    for topic_idx, topic in enumerate(model.components_):\n",
    "        print(\"Topic %d:\" % (topic_idx))\n",
    "        print(\" \".join([feature_names[i] for i in topic.argsort()[:-no_top_words - 1:-1]]))\n",
    "\n",
    "no_top_words = 15\n",
    "display_topics(sk_tweet_lda, feature_names, 15)"
   ]
  },
  {
   "cell_type": "code",
   "execution_count": 55,
   "metadata": {},
   "outputs": [
    {
     "name": "stderr",
     "output_type": "stream",
     "text": [
      "D:\\Anaconda\\lib\\site-packages\\pyLDAvis\\_prepare.py:257: FutureWarning: Sorting because non-concatenation axis is not aligned. A future version\n",
      "of pandas will change to not sort by default.\n",
      "\n",
      "To accept the future behavior, pass 'sort=False'.\n",
      "\n",
      "To retain the current behavior and silence the warning, pass 'sort=True'.\n",
      "\n",
      "  return pd.concat([default_term_info] + list(topic_dfs))\n"
     ]
    }
   ],
   "source": [
    "#Set up the environment to display the graphical outputs - will take a while to run\n",
    "import pyLDAvis\n",
    "import pyLDAvis.sklearn\n",
    "pyLDAvis.enable_notebook()\n",
    "# Generate the visuals\n",
    "visual = pyLDAvis.sklearn.prepare(sk_tweet_lda, sk_tweet_vecs, vectorizer, mds='tsne')\n",
    "#Save the output|to the html file\n",
    "pyLDAvis.save_html(visual, \"topic_viz_sklearn.html\")"
   ]
  },
  {
   "cell_type": "markdown",
   "metadata": {},
   "source": [
    "#### Code for perplexity score\n",
    "\n",
    "###### Apparently get_topics method is not supported to calculate coherance score for sk learn model and perplexity is normally considered to be the metric to check it's performance"
   ]
  },
  {
   "cell_type": "code",
   "execution_count": 56,
   "metadata": {},
   "outputs": [
    {
     "name": "stdout",
     "output_type": "stream",
     "text": [
      "Perplexity:  2862.5743271199226\n"
     ]
    }
   ],
   "source": [
    "# Compute Perplexity - Lower the better. Perplexity = exp(-1. * log-likelihood per word)\n",
    "print(\"Perplexity: \", sk_tweet_lda.perplexity(sk_tweet_vecs))"
   ]
  },
  {
   "cell_type": "code",
   "execution_count": 44,
   "metadata": {},
   "outputs": [
    {
     "name": "stdout",
     "output_type": "stream",
     "text": [
      "2020-07-09 13:20:02.721924\n",
      "#Topics: 2, Score: 2549.6846224438514\n",
      "#Topics: 4, Score: 2862.5743271199226\n",
      "#Topics: 6, Score: 3262.3180092990615\n",
      "#Topics: 8, Score: 3474.123673562861\n",
      "#Topics: 10, Score: 3687.608091015961\n",
      "#Topics: 12, Score: 3841.4868390442634\n",
      "2020-07-09 14:50:11.707094\n"
     ]
    }
   ],
   "source": [
    "# Can take a long time to run. Very values of Kmax for better results\n",
    "# current kmax is chosen to be 14 - reduce it to run faster\n",
    "import datetime\n",
    "print(datetime.datetime.now())\n",
    "\n",
    "from gensim.models import CoherenceModel\n",
    "\n",
    "model_list = []\n",
    "perplexity_values = []\n",
    "model_topics = []\n",
    "\n",
    "for num_topics in range(2, 14, 2):\n",
    "    sk_tweet_lda_x = LatentDirichletAllocation(n_components=num_topics, learning_method='online', n_jobs = -1)\n",
    "    sk_tweet_lda_x.fit_transform(sk_tweet_vecs)\n",
    "    model_topics.append(num_topics)\n",
    "    model_list.append(sk_tweet_lda_x)\n",
    "    perplexity_values.append(sk_tweet_lda_x.perplexity(sk_tweet_vecs))\n",
    "    print(\"#Topics: \" + str(num_topics) + \", Score: \" + str(sk_tweet_lda_x.perplexity(sk_tweet_vecs)))\n",
    "\n",
    "print(datetime.datetime.now())"
   ]
  },
  {
   "cell_type": "code",
   "execution_count": 45,
   "metadata": {},
   "outputs": [
    {
     "data": {
      "image/png": "[encoded data removed]",
      "text/plain": [
       "<Figure size 432x288 with 1 Axes>"
      ]
     },
     "metadata": {
      "needs_background": "light"
     },
     "output_type": "display_data"
    }
   ],
   "source": [
    "# Show graph\n",
    "\n",
    "import matplotlib.pyplot as plt\n",
    "\n",
    "limit=14; start=2; step=2;\n",
    "x = range(start, limit, step)\n",
    "plt.plot(x, perplexity_values)\n",
    "plt.xlabel(\"Num Topics\")\n",
    "plt.ylabel(\"perplexity score\")\n",
    "plt.legend((\"perplexity_values\"), loc='best')\n",
    "plt.show()"
   ]
  },
  {
   "cell_type": "markdown",
   "metadata": {},
   "source": [
    "####  Identify Most Dominant Topic for each Document"
   ]
  },
  {
   "cell_type": "code",
   "execution_count": 50,
   "metadata": {},
   "outputs": [
    {
     "data": {
      "text/html": [
       "<style  type=\"text/css\" >\n",
       "    #T_00f2581c_c1b2_11ea_95b2_f723a0149fdcrow0_col0 {\n",
       "            color:  green;\n",
       "            font-weight:  700;\n",
       "        }    #T_00f2581c_c1b2_11ea_95b2_f723a0149fdcrow0_col1 {\n",
       "            color:  black;\n",
       "            font-weight:  400;\n",
       "        }    #T_00f2581c_c1b2_11ea_95b2_f723a0149fdcrow0_col2 {\n",
       "            color:  black;\n",
       "            font-weight:  400;\n",
       "        }    #T_00f2581c_c1b2_11ea_95b2_f723a0149fdcrow0_col3 {\n",
       "            color:  black;\n",
       "            font-weight:  400;\n",
       "        }    #T_00f2581c_c1b2_11ea_95b2_f723a0149fdcrow0_col4 {\n",
       "            color:  black;\n",
       "            font-weight:  400;\n",
       "        }    #T_00f2581c_c1b2_11ea_95b2_f723a0149fdcrow0_col5 {\n",
       "            color:  black;\n",
       "            font-weight:  400;\n",
       "        }    #T_00f2581c_c1b2_11ea_95b2_f723a0149fdcrow0_col6 {\n",
       "            color:  black;\n",
       "            font-weight:  400;\n",
       "        }    #T_00f2581c_c1b2_11ea_95b2_f723a0149fdcrow1_col0 {\n",
       "            color:  green;\n",
       "            font-weight:  700;\n",
       "        }    #T_00f2581c_c1b2_11ea_95b2_f723a0149fdcrow1_col1 {\n",
       "            color:  black;\n",
       "            font-weight:  400;\n",
       "        }    #T_00f2581c_c1b2_11ea_95b2_f723a0149fdcrow1_col2 {\n",
       "            color:  black;\n",
       "            font-weight:  400;\n",
       "        }    #T_00f2581c_c1b2_11ea_95b2_f723a0149fdcrow1_col3 {\n",
       "            color:  green;\n",
       "            font-weight:  700;\n",
       "        }    #T_00f2581c_c1b2_11ea_95b2_f723a0149fdcrow1_col4 {\n",
       "            color:  black;\n",
       "            font-weight:  400;\n",
       "        }    #T_00f2581c_c1b2_11ea_95b2_f723a0149fdcrow1_col5 {\n",
       "            color:  green;\n",
       "            font-weight:  700;\n",
       "        }    #T_00f2581c_c1b2_11ea_95b2_f723a0149fdcrow1_col6 {\n",
       "            color:  green;\n",
       "            font-weight:  700;\n",
       "        }    #T_00f2581c_c1b2_11ea_95b2_f723a0149fdcrow2_col0 {\n",
       "            color:  black;\n",
       "            font-weight:  400;\n",
       "        }    #T_00f2581c_c1b2_11ea_95b2_f723a0149fdcrow2_col1 {\n",
       "            color:  black;\n",
       "            font-weight:  400;\n",
       "        }    #T_00f2581c_c1b2_11ea_95b2_f723a0149fdcrow2_col2 {\n",
       "            color:  black;\n",
       "            font-weight:  400;\n",
       "        }    #T_00f2581c_c1b2_11ea_95b2_f723a0149fdcrow2_col3 {\n",
       "            color:  green;\n",
       "            font-weight:  700;\n",
       "        }    #T_00f2581c_c1b2_11ea_95b2_f723a0149fdcrow2_col4 {\n",
       "            color:  black;\n",
       "            font-weight:  400;\n",
       "        }    #T_00f2581c_c1b2_11ea_95b2_f723a0149fdcrow2_col5 {\n",
       "            color:  green;\n",
       "            font-weight:  700;\n",
       "        }    #T_00f2581c_c1b2_11ea_95b2_f723a0149fdcrow2_col6 {\n",
       "            color:  green;\n",
       "            font-weight:  700;\n",
       "        }    #T_00f2581c_c1b2_11ea_95b2_f723a0149fdcrow3_col0 {\n",
       "            color:  black;\n",
       "            font-weight:  400;\n",
       "        }    #T_00f2581c_c1b2_11ea_95b2_f723a0149fdcrow3_col1 {\n",
       "            color:  black;\n",
       "            font-weight:  400;\n",
       "        }    #T_00f2581c_c1b2_11ea_95b2_f723a0149fdcrow3_col2 {\n",
       "            color:  black;\n",
       "            font-weight:  400;\n",
       "        }    #T_00f2581c_c1b2_11ea_95b2_f723a0149fdcrow3_col3 {\n",
       "            color:  green;\n",
       "            font-weight:  700;\n",
       "        }    #T_00f2581c_c1b2_11ea_95b2_f723a0149fdcrow3_col4 {\n",
       "            color:  black;\n",
       "            font-weight:  400;\n",
       "        }    #T_00f2581c_c1b2_11ea_95b2_f723a0149fdcrow3_col5 {\n",
       "            color:  black;\n",
       "            font-weight:  400;\n",
       "        }    #T_00f2581c_c1b2_11ea_95b2_f723a0149fdcrow3_col6 {\n",
       "            color:  green;\n",
       "            font-weight:  700;\n",
       "        }    #T_00f2581c_c1b2_11ea_95b2_f723a0149fdcrow4_col0 {\n",
       "            color:  black;\n",
       "            font-weight:  400;\n",
       "        }    #T_00f2581c_c1b2_11ea_95b2_f723a0149fdcrow4_col1 {\n",
       "            color:  black;\n",
       "            font-weight:  400;\n",
       "        }    #T_00f2581c_c1b2_11ea_95b2_f723a0149fdcrow4_col2 {\n",
       "            color:  green;\n",
       "            font-weight:  700;\n",
       "        }    #T_00f2581c_c1b2_11ea_95b2_f723a0149fdcrow4_col3 {\n",
       "            color:  black;\n",
       "            font-weight:  400;\n",
       "        }    #T_00f2581c_c1b2_11ea_95b2_f723a0149fdcrow4_col4 {\n",
       "            color:  black;\n",
       "            font-weight:  400;\n",
       "        }    #T_00f2581c_c1b2_11ea_95b2_f723a0149fdcrow4_col5 {\n",
       "            color:  black;\n",
       "            font-weight:  400;\n",
       "        }    #T_00f2581c_c1b2_11ea_95b2_f723a0149fdcrow4_col6 {\n",
       "            color:  green;\n",
       "            font-weight:  700;\n",
       "        }    #T_00f2581c_c1b2_11ea_95b2_f723a0149fdcrow5_col0 {\n",
       "            color:  black;\n",
       "            font-weight:  400;\n",
       "        }    #T_00f2581c_c1b2_11ea_95b2_f723a0149fdcrow5_col1 {\n",
       "            color:  black;\n",
       "            font-weight:  400;\n",
       "        }    #T_00f2581c_c1b2_11ea_95b2_f723a0149fdcrow5_col2 {\n",
       "            color:  green;\n",
       "            font-weight:  700;\n",
       "        }    #T_00f2581c_c1b2_11ea_95b2_f723a0149fdcrow5_col3 {\n",
       "            color:  black;\n",
       "            font-weight:  400;\n",
       "        }    #T_00f2581c_c1b2_11ea_95b2_f723a0149fdcrow5_col4 {\n",
       "            color:  green;\n",
       "            font-weight:  700;\n",
       "        }    #T_00f2581c_c1b2_11ea_95b2_f723a0149fdcrow5_col5 {\n",
       "            color:  green;\n",
       "            font-weight:  700;\n",
       "        }    #T_00f2581c_c1b2_11ea_95b2_f723a0149fdcrow5_col6 {\n",
       "            color:  green;\n",
       "            font-weight:  700;\n",
       "        }    #T_00f2581c_c1b2_11ea_95b2_f723a0149fdcrow6_col0 {\n",
       "            color:  black;\n",
       "            font-weight:  400;\n",
       "        }    #T_00f2581c_c1b2_11ea_95b2_f723a0149fdcrow6_col1 {\n",
       "            color:  green;\n",
       "            font-weight:  700;\n",
       "        }    #T_00f2581c_c1b2_11ea_95b2_f723a0149fdcrow6_col2 {\n",
       "            color:  black;\n",
       "            font-weight:  400;\n",
       "        }    #T_00f2581c_c1b2_11ea_95b2_f723a0149fdcrow6_col3 {\n",
       "            color:  green;\n",
       "            font-weight:  700;\n",
       "        }    #T_00f2581c_c1b2_11ea_95b2_f723a0149fdcrow6_col4 {\n",
       "            color:  black;\n",
       "            font-weight:  400;\n",
       "        }    #T_00f2581c_c1b2_11ea_95b2_f723a0149fdcrow6_col5 {\n",
       "            color:  black;\n",
       "            font-weight:  400;\n",
       "        }    #T_00f2581c_c1b2_11ea_95b2_f723a0149fdcrow6_col6 {\n",
       "            color:  green;\n",
       "            font-weight:  700;\n",
       "        }    #T_00f2581c_c1b2_11ea_95b2_f723a0149fdcrow7_col0 {\n",
       "            color:  black;\n",
       "            font-weight:  400;\n",
       "        }    #T_00f2581c_c1b2_11ea_95b2_f723a0149fdcrow7_col1 {\n",
       "            color:  black;\n",
       "            font-weight:  400;\n",
       "        }    #T_00f2581c_c1b2_11ea_95b2_f723a0149fdcrow7_col2 {\n",
       "            color:  green;\n",
       "            font-weight:  700;\n",
       "        }    #T_00f2581c_c1b2_11ea_95b2_f723a0149fdcrow7_col3 {\n",
       "            color:  black;\n",
       "            font-weight:  400;\n",
       "        }    #T_00f2581c_c1b2_11ea_95b2_f723a0149fdcrow7_col4 {\n",
       "            color:  black;\n",
       "            font-weight:  400;\n",
       "        }    #T_00f2581c_c1b2_11ea_95b2_f723a0149fdcrow7_col5 {\n",
       "            color:  black;\n",
       "            font-weight:  400;\n",
       "        }    #T_00f2581c_c1b2_11ea_95b2_f723a0149fdcrow7_col6 {\n",
       "            color:  green;\n",
       "            font-weight:  700;\n",
       "        }    #T_00f2581c_c1b2_11ea_95b2_f723a0149fdcrow8_col0 {\n",
       "            color:  black;\n",
       "            font-weight:  400;\n",
       "        }    #T_00f2581c_c1b2_11ea_95b2_f723a0149fdcrow8_col1 {\n",
       "            color:  green;\n",
       "            font-weight:  700;\n",
       "        }    #T_00f2581c_c1b2_11ea_95b2_f723a0149fdcrow8_col2 {\n",
       "            color:  black;\n",
       "            font-weight:  400;\n",
       "        }    #T_00f2581c_c1b2_11ea_95b2_f723a0149fdcrow8_col3 {\n",
       "            color:  black;\n",
       "            font-weight:  400;\n",
       "        }    #T_00f2581c_c1b2_11ea_95b2_f723a0149fdcrow8_col4 {\n",
       "            color:  black;\n",
       "            font-weight:  400;\n",
       "        }    #T_00f2581c_c1b2_11ea_95b2_f723a0149fdcrow8_col5 {\n",
       "            color:  black;\n",
       "            font-weight:  400;\n",
       "        }    #T_00f2581c_c1b2_11ea_95b2_f723a0149fdcrow8_col6 {\n",
       "            color:  green;\n",
       "            font-weight:  700;\n",
       "        }    #T_00f2581c_c1b2_11ea_95b2_f723a0149fdcrow9_col0 {\n",
       "            color:  black;\n",
       "            font-weight:  400;\n",
       "        }    #T_00f2581c_c1b2_11ea_95b2_f723a0149fdcrow9_col1 {\n",
       "            color:  black;\n",
       "            font-weight:  400;\n",
       "        }    #T_00f2581c_c1b2_11ea_95b2_f723a0149fdcrow9_col2 {\n",
       "            color:  black;\n",
       "            font-weight:  400;\n",
       "        }    #T_00f2581c_c1b2_11ea_95b2_f723a0149fdcrow9_col3 {\n",
       "            color:  black;\n",
       "            font-weight:  400;\n",
       "        }    #T_00f2581c_c1b2_11ea_95b2_f723a0149fdcrow9_col4 {\n",
       "            color:  green;\n",
       "            font-weight:  700;\n",
       "        }    #T_00f2581c_c1b2_11ea_95b2_f723a0149fdcrow9_col5 {\n",
       "            color:  black;\n",
       "            font-weight:  400;\n",
       "        }    #T_00f2581c_c1b2_11ea_95b2_f723a0149fdcrow9_col6 {\n",
       "            color:  green;\n",
       "            font-weight:  700;\n",
       "        }</style><table id=\"T_00f2581c_c1b2_11ea_95b2_f723a0149fdc\" ><thead>    <tr>        <th class=\"blank level0\" ></th>        <th class=\"col_heading level0 col0\" >Topic0</th>        <th class=\"col_heading level0 col1\" >Topic1</th>        <th class=\"col_heading level0 col2\" >Topic2</th>        <th class=\"col_heading level0 col3\" >Topic3</th>        <th class=\"col_heading level0 col4\" >Topic4</th>        <th class=\"col_heading level0 col5\" >Topic5</th>        <th class=\"col_heading level0 col6\" >dominant_topic</th>    </tr></thead><tbody>\n",
       "                <tr>\n",
       "                        <th id=\"T_00f2581c_c1b2_11ea_95b2_f723a0149fdclevel0_row0\" class=\"row_heading level0 row0\" >Doc0</th>\n",
       "                        <td id=\"T_00f2581c_c1b2_11ea_95b2_f723a0149fdcrow0_col0\" class=\"data row0 col0\" >0.71959</td>\n",
       "                        <td id=\"T_00f2581c_c1b2_11ea_95b2_f723a0149fdcrow0_col1\" class=\"data row0 col1\" >0.05556</td>\n",
       "                        <td id=\"T_00f2581c_c1b2_11ea_95b2_f723a0149fdcrow0_col2\" class=\"data row0 col2\" >0.05715</td>\n",
       "                        <td id=\"T_00f2581c_c1b2_11ea_95b2_f723a0149fdcrow0_col3\" class=\"data row0 col3\" >0.05556</td>\n",
       "                        <td id=\"T_00f2581c_c1b2_11ea_95b2_f723a0149fdcrow0_col4\" class=\"data row0 col4\" >0.05558</td>\n",
       "                        <td id=\"T_00f2581c_c1b2_11ea_95b2_f723a0149fdcrow0_col5\" class=\"data row0 col5\" >0.05657</td>\n",
       "                        <td id=\"T_00f2581c_c1b2_11ea_95b2_f723a0149fdcrow0_col6\" class=\"data row0 col6\" >0</td>\n",
       "            </tr>\n",
       "            <tr>\n",
       "                        <th id=\"T_00f2581c_c1b2_11ea_95b2_f723a0149fdclevel0_row1\" class=\"row_heading level0 row1\" >Doc1</th>\n",
       "                        <td id=\"T_00f2581c_c1b2_11ea_95b2_f723a0149fdcrow1_col0\" class=\"data row1 col0\" >0.11395</td>\n",
       "                        <td id=\"T_00f2581c_c1b2_11ea_95b2_f723a0149fdcrow1_col1\" class=\"data row1 col1\" >0.01401</td>\n",
       "                        <td id=\"T_00f2581c_c1b2_11ea_95b2_f723a0149fdcrow1_col2\" class=\"data row1 col2\" >0.01394</td>\n",
       "                        <td id=\"T_00f2581c_c1b2_11ea_95b2_f723a0149fdcrow1_col3\" class=\"data row1 col3\" >0.18668</td>\n",
       "                        <td id=\"T_00f2581c_c1b2_11ea_95b2_f723a0149fdcrow1_col4\" class=\"data row1 col4\" >0.01416</td>\n",
       "                        <td id=\"T_00f2581c_c1b2_11ea_95b2_f723a0149fdcrow1_col5\" class=\"data row1 col5\" >0.65725</td>\n",
       "                        <td id=\"T_00f2581c_c1b2_11ea_95b2_f723a0149fdcrow1_col6\" class=\"data row1 col6\" >5</td>\n",
       "            </tr>\n",
       "            <tr>\n",
       "                        <th id=\"T_00f2581c_c1b2_11ea_95b2_f723a0149fdclevel0_row2\" class=\"row_heading level0 row2\" >Doc2</th>\n",
       "                        <td id=\"T_00f2581c_c1b2_11ea_95b2_f723a0149fdcrow2_col0\" class=\"data row2 col0\" >0.04167</td>\n",
       "                        <td id=\"T_00f2581c_c1b2_11ea_95b2_f723a0149fdcrow2_col1\" class=\"data row2 col1\" >0.04167</td>\n",
       "                        <td id=\"T_00f2581c_c1b2_11ea_95b2_f723a0149fdcrow2_col2\" class=\"data row2 col2\" >0.04167</td>\n",
       "                        <td id=\"T_00f2581c_c1b2_11ea_95b2_f723a0149fdcrow2_col3\" class=\"data row2 col3\" >0.29167</td>\n",
       "                        <td id=\"T_00f2581c_c1b2_11ea_95b2_f723a0149fdcrow2_col4\" class=\"data row2 col4\" >0.04235</td>\n",
       "                        <td id=\"T_00f2581c_c1b2_11ea_95b2_f723a0149fdcrow2_col5\" class=\"data row2 col5\" >0.54098</td>\n",
       "                        <td id=\"T_00f2581c_c1b2_11ea_95b2_f723a0149fdcrow2_col6\" class=\"data row2 col6\" >5</td>\n",
       "            </tr>\n",
       "            <tr>\n",
       "                        <th id=\"T_00f2581c_c1b2_11ea_95b2_f723a0149fdclevel0_row3\" class=\"row_heading level0 row3\" >Doc3</th>\n",
       "                        <td id=\"T_00f2581c_c1b2_11ea_95b2_f723a0149fdcrow3_col0\" class=\"data row3 col0\" >0.04167</td>\n",
       "                        <td id=\"T_00f2581c_c1b2_11ea_95b2_f723a0149fdcrow3_col1\" class=\"data row3 col1\" >0.04167</td>\n",
       "                        <td id=\"T_00f2581c_c1b2_11ea_95b2_f723a0149fdcrow3_col2\" class=\"data row3 col2\" >0.04167</td>\n",
       "                        <td id=\"T_00f2581c_c1b2_11ea_95b2_f723a0149fdcrow3_col3\" class=\"data row3 col3\" >0.79167</td>\n",
       "                        <td id=\"T_00f2581c_c1b2_11ea_95b2_f723a0149fdcrow3_col4\" class=\"data row3 col4\" >0.04167</td>\n",
       "                        <td id=\"T_00f2581c_c1b2_11ea_95b2_f723a0149fdcrow3_col5\" class=\"data row3 col5\" >0.04167</td>\n",
       "                        <td id=\"T_00f2581c_c1b2_11ea_95b2_f723a0149fdcrow3_col6\" class=\"data row3 col6\" >3</td>\n",
       "            </tr>\n",
       "            <tr>\n",
       "                        <th id=\"T_00f2581c_c1b2_11ea_95b2_f723a0149fdclevel0_row4\" class=\"row_heading level0 row4\" >Doc4</th>\n",
       "                        <td id=\"T_00f2581c_c1b2_11ea_95b2_f723a0149fdcrow4_col0\" class=\"data row4 col0\" >0.01046</td>\n",
       "                        <td id=\"T_00f2581c_c1b2_11ea_95b2_f723a0149fdcrow4_col1\" class=\"data row4 col1\" >0.01042</td>\n",
       "                        <td id=\"T_00f2581c_c1b2_11ea_95b2_f723a0149fdcrow4_col2\" class=\"data row4 col2\" >0.9478</td>\n",
       "                        <td id=\"T_00f2581c_c1b2_11ea_95b2_f723a0149fdcrow4_col3\" class=\"data row4 col3\" >0.01042</td>\n",
       "                        <td id=\"T_00f2581c_c1b2_11ea_95b2_f723a0149fdcrow4_col4\" class=\"data row4 col4\" >0.01042</td>\n",
       "                        <td id=\"T_00f2581c_c1b2_11ea_95b2_f723a0149fdcrow4_col5\" class=\"data row4 col5\" >0.01049</td>\n",
       "                        <td id=\"T_00f2581c_c1b2_11ea_95b2_f723a0149fdcrow4_col6\" class=\"data row4 col6\" >2</td>\n",
       "            </tr>\n",
       "            <tr>\n",
       "                        <th id=\"T_00f2581c_c1b2_11ea_95b2_f723a0149fdclevel0_row5\" class=\"row_heading level0 row5\" >Doc5</th>\n",
       "                        <td id=\"T_00f2581c_c1b2_11ea_95b2_f723a0149fdcrow5_col0\" class=\"data row5 col0\" >0.01283</td>\n",
       "                        <td id=\"T_00f2581c_c1b2_11ea_95b2_f723a0149fdcrow5_col1\" class=\"data row5 col1\" >0.01282</td>\n",
       "                        <td id=\"T_00f2581c_c1b2_11ea_95b2_f723a0149fdcrow5_col2\" class=\"data row5 col2\" >0.12873</td>\n",
       "                        <td id=\"T_00f2581c_c1b2_11ea_95b2_f723a0149fdcrow5_col3\" class=\"data row5 col3\" >0.01283</td>\n",
       "                        <td id=\"T_00f2581c_c1b2_11ea_95b2_f723a0149fdcrow5_col4\" class=\"data row5 col4\" >0.60023</td>\n",
       "                        <td id=\"T_00f2581c_c1b2_11ea_95b2_f723a0149fdcrow5_col5\" class=\"data row5 col5\" >0.23255</td>\n",
       "                        <td id=\"T_00f2581c_c1b2_11ea_95b2_f723a0149fdcrow5_col6\" class=\"data row5 col6\" >4</td>\n",
       "            </tr>\n",
       "            <tr>\n",
       "                        <th id=\"T_00f2581c_c1b2_11ea_95b2_f723a0149fdclevel0_row6\" class=\"row_heading level0 row6\" >Doc6</th>\n",
       "                        <td id=\"T_00f2581c_c1b2_11ea_95b2_f723a0149fdcrow6_col0\" class=\"data row6 col0\" >0.00935</td>\n",
       "                        <td id=\"T_00f2581c_c1b2_11ea_95b2_f723a0149fdcrow6_col1\" class=\"data row6 col1\" >0.18909</td>\n",
       "                        <td id=\"T_00f2581c_c1b2_11ea_95b2_f723a0149fdcrow6_col2\" class=\"data row6 col2\" >0.00929</td>\n",
       "                        <td id=\"T_00f2581c_c1b2_11ea_95b2_f723a0149fdcrow6_col3\" class=\"data row6 col3\" >0.71828</td>\n",
       "                        <td id=\"T_00f2581c_c1b2_11ea_95b2_f723a0149fdcrow6_col4\" class=\"data row6 col4\" >0.00927</td>\n",
       "                        <td id=\"T_00f2581c_c1b2_11ea_95b2_f723a0149fdcrow6_col5\" class=\"data row6 col5\" >0.06473</td>\n",
       "                        <td id=\"T_00f2581c_c1b2_11ea_95b2_f723a0149fdcrow6_col6\" class=\"data row6 col6\" >3</td>\n",
       "            </tr>\n",
       "            <tr>\n",
       "                        <th id=\"T_00f2581c_c1b2_11ea_95b2_f723a0149fdclevel0_row7\" class=\"row_heading level0 row7\" >Doc7</th>\n",
       "                        <td id=\"T_00f2581c_c1b2_11ea_95b2_f723a0149fdcrow7_col0\" class=\"data row7 col0\" >0.02083</td>\n",
       "                        <td id=\"T_00f2581c_c1b2_11ea_95b2_f723a0149fdcrow7_col1\" class=\"data row7 col1\" >0.02083</td>\n",
       "                        <td id=\"T_00f2581c_c1b2_11ea_95b2_f723a0149fdcrow7_col2\" class=\"data row7 col2\" >0.89583</td>\n",
       "                        <td id=\"T_00f2581c_c1b2_11ea_95b2_f723a0149fdcrow7_col3\" class=\"data row7 col3\" >0.02083</td>\n",
       "                        <td id=\"T_00f2581c_c1b2_11ea_95b2_f723a0149fdcrow7_col4\" class=\"data row7 col4\" >0.02083</td>\n",
       "                        <td id=\"T_00f2581c_c1b2_11ea_95b2_f723a0149fdcrow7_col5\" class=\"data row7 col5\" >0.02083</td>\n",
       "                        <td id=\"T_00f2581c_c1b2_11ea_95b2_f723a0149fdcrow7_col6\" class=\"data row7 col6\" >2</td>\n",
       "            </tr>\n",
       "            <tr>\n",
       "                        <th id=\"T_00f2581c_c1b2_11ea_95b2_f723a0149fdclevel0_row8\" class=\"row_heading level0 row8\" >Doc8</th>\n",
       "                        <td id=\"T_00f2581c_c1b2_11ea_95b2_f723a0149fdcrow8_col0\" class=\"data row8 col0\" >0.01857</td>\n",
       "                        <td id=\"T_00f2581c_c1b2_11ea_95b2_f723a0149fdcrow8_col1\" class=\"data row8 col1\" >0.90687</td>\n",
       "                        <td id=\"T_00f2581c_c1b2_11ea_95b2_f723a0149fdcrow8_col2\" class=\"data row8 col2\" >0.01875</td>\n",
       "                        <td id=\"T_00f2581c_c1b2_11ea_95b2_f723a0149fdcrow8_col3\" class=\"data row8 col3\" >0.01858</td>\n",
       "                        <td id=\"T_00f2581c_c1b2_11ea_95b2_f723a0149fdcrow8_col4\" class=\"data row8 col4\" >0.01861</td>\n",
       "                        <td id=\"T_00f2581c_c1b2_11ea_95b2_f723a0149fdcrow8_col5\" class=\"data row8 col5\" >0.01862</td>\n",
       "                        <td id=\"T_00f2581c_c1b2_11ea_95b2_f723a0149fdcrow8_col6\" class=\"data row8 col6\" >1</td>\n",
       "            </tr>\n",
       "            <tr>\n",
       "                        <th id=\"T_00f2581c_c1b2_11ea_95b2_f723a0149fdclevel0_row9\" class=\"row_heading level0 row9\" >Doc9</th>\n",
       "                        <td id=\"T_00f2581c_c1b2_11ea_95b2_f723a0149fdcrow9_col0\" class=\"data row9 col0\" >0.02778</td>\n",
       "                        <td id=\"T_00f2581c_c1b2_11ea_95b2_f723a0149fdcrow9_col1\" class=\"data row9 col1\" >0.02778</td>\n",
       "                        <td id=\"T_00f2581c_c1b2_11ea_95b2_f723a0149fdcrow9_col2\" class=\"data row9 col2\" >0.02781</td>\n",
       "                        <td id=\"T_00f2581c_c1b2_11ea_95b2_f723a0149fdcrow9_col3\" class=\"data row9 col3\" >0.02797</td>\n",
       "                        <td id=\"T_00f2581c_c1b2_11ea_95b2_f723a0149fdcrow9_col4\" class=\"data row9 col4\" >0.86088</td>\n",
       "                        <td id=\"T_00f2581c_c1b2_11ea_95b2_f723a0149fdcrow9_col5\" class=\"data row9 col5\" >0.02778</td>\n",
       "                        <td id=\"T_00f2581c_c1b2_11ea_95b2_f723a0149fdcrow9_col6\" class=\"data row9 col6\" >4</td>\n",
       "            </tr>\n",
       "    </tbody></table>"
      ],
      "text/plain": [
       "<pandas.io.formats.style.Styler at 0x22448615b38>"
      ]
     },
     "execution_count": 50,
     "metadata": {},
     "output_type": "execute_result"
    }
   ],
   "source": [
    "# Create Document - Topic Matrix\n",
    "lda_output = model_list[2].transform(sk_tweet_vecs)\n",
    "\n",
    "# column names\n",
    "topicnames = [\"Topic\" + str(i) for i in range(model_list[2].n_components)]\n",
    "\n",
    "# index names\n",
    "docnames = [\"Doc\" + str(i) for i in range(len(all_tweets6))]\n",
    "\n",
    "# Make the pandas dataframe\n",
    "df_document_topic = pd.DataFrame(np.round(lda_output, 5), columns=topicnames, index=docnames)\n",
    "\n",
    "# Get dominant topic for each document\n",
    "dominant_topic = np.argmax(df_document_topic.values, axis=1)\n",
    "df_document_topic['dominant_topic'] = dominant_topic\n",
    "\n",
    "# Styling\n",
    "def color_green(val):\n",
    "    color = 'green' if val > .1 else 'black'\n",
    "    return 'color: {col}'.format(col=color)\n",
    "\n",
    "def make_bold(val):\n",
    "    weight = 700 if val > .1 else 400\n",
    "    return 'font-weight: {weight}'.format(weight=weight)\n",
    "\n",
    "# Apply Style\n",
    "num_doc_to_show = 10  # change this to display the number of documents shown below\n",
    "df_document_topics = df_document_topic.head(num_doc_to_show).style.applymap(color_green).applymap(make_bold)\n",
    "df_document_topics"
   ]
  },
  {
   "cell_type": "code",
   "execution_count": 51,
   "metadata": {},
   "outputs": [],
   "source": [
    "import joblib\n",
    "#Save a model to disk, or reload a pre-trained model\n",
    "\n",
    "sk_tweet_lda=model_list[1]\n",
    "joblib.dump(sk_tweet_lda, 'tweet_lda.jl')\n",
    "\n",
    "# # then reload it with\n",
    "lda_disk = joblib.load('tweet_lda.jl')"
   ]
  },
  {
   "cell_type": "code",
   "execution_count": 52,
   "metadata": {},
   "outputs": [],
   "source": [
    "#Code to save theta\n",
    "import pandas as pd\n",
    "\n",
    "df_document_topic.to_csv(\"doc_sk_topic.csv\")"
   ]
  },
  {
   "cell_type": "code",
   "execution_count": 54,
   "metadata": {},
   "outputs": [],
   "source": [
    "# Write code here to save top 10 words for each topic (beta)\n",
    "top_words_per_topic = []\n",
    "    \n",
    "for topic_idx, topic in enumerate(sk_tweet_lda.components_):\n",
    "    topic_word_P = [(topic_idx, feature_names[i], topic[i]) for i in topic.argsort()[:-no_top_words - 1:-1]]\n",
    "    top_words_per_topic.extend(topic_word_P)\n",
    "\n",
    "pd.DataFrame(top_words_per_topic, columns=['Topic', 'Word', 'P']).to_csv(\"top_sk_words.csv\")"
   ]
  }
 ],
 "metadata": {
  "kernelspec": {
   "display_name": "Python 3",
   "language": "python",
   "name": "python3"
  },
  "language_info": {
   "codemirror_mode": {
    "name": "ipython",
    "version": 3
   },
   "file_extension": ".py",
   "mimetype": "text/x-python",
   "name": "python",
   "nbconvert_exporter": "python",
   "pygments_lexer": "ipython3",
   "version": "3.7.3"
  }
 },
 "nbformat": 4,
 "nbformat_minor": 2
}
